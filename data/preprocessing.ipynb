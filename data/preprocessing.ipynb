{
 "cells": [
  {
   "cell_type": "code",
   "execution_count": 2,
   "metadata": {},
   "outputs": [],
   "source": [
    "import pandas as pd\n",
    "import matplotlib.pyplot as plt\n",
    "import numpy as np\n",
    "import matplotlib.colors as mcolors  \n",
    "import warnings\n",
    "warnings.filterwarnings(\"ignore\")"
   ]
  },
  {
   "attachments": {},
   "cell_type": "markdown",
   "metadata": {},
   "source": [
    "# Read Psychophysical Dataset"
   ]
  },
  {
   "cell_type": "code",
   "execution_count": 3,
   "metadata": {},
   "outputs": [],
   "source": [
    "## Dravnieks\n",
    "dravnieksdf = pd.read_csv(\"dravnieks/raw/DravnieksGrid.csv\").iloc[:,1:] ## available dataset downloaded from pyrfume project\n",
    "dravcid = pd.read_csv(\"dravnieks/raw/identifiers.csv\")[[\"CID\"]] ## retrieve cid information\n",
    "dravsmile = pd.read_csv(\"dravnieks/raw/molecules.csv\")[[\"IsomericSMILES\"]] ## retrieve smiles information\n",
    "\n",
    "# add retrieved information to our psychophysical dataset\n",
    "dravnieksdf = pd.concat((dravcid, dravnieksdf), 1)\n",
    "dravnieksdf.dropna(inplace=True)\n",
    "dravnieksdf = dravnieksdf.set_index(np.arange(len(dravnieksdf)))\n",
    "dravnieksdf = pd.concat((dravsmile, dravnieksdf), 1)\n",
    "\n",
    "dravnieksdf.to_csv(\"dravnieks/raw/dravnieks_pa.csv\")"
   ]
  },
  {
   "cell_type": "code",
   "execution_count": 4,
   "metadata": {},
   "outputs": [],
   "source": [
    "## Reformat the Keller dataset from its raw version\n",
    "from tqdm import tqdm\n",
    "kellerdf = pd.read_csv(\"keller/raw/Keller_12868_2016_287_MOESM1_ESM.csv\") ## available from original paper\n",
    "kellerdf.columns = kellerdf.iloc[1,:]\n",
    "kellerdf = kellerdf.iloc[2:,:]\n",
    "kellerdf.fillna(0, inplace=True)\n",
    "\n",
    "## we extract only columns of interest\n",
    "kellerdf = kellerdf[['CID', 'Subject # (this study) ','HOW PLEASANT IS THE SMELL?','EDIBLE ', 'BAKERY ', 'SWEET ', 'FRUIT ',\n",
    "       'FISH', 'GARLIC ', 'SPICES ', 'COLD', 'SOUR ', 'BURNT ', 'ACID ',\n",
    "       'WARM ', 'MUSKY ', 'SWEATY ', 'AMMONIA/URINOUS', 'DECAYED', 'WOOD ',\n",
    "       'GRASS ', 'FLOWER ', 'CHEMICAL']]\n",
    "\n",
    "## we change some column name for easier reference\n",
    "kellerdf.rename(columns={\"HOW PLEASANT IS THE SMELL?\": \"PLEASANTNESS\"}, inplace=True)\n",
    "kellerdf = kellerdf.astype(float)\n",
    "\n",
    "## from the Keller's paper, we know that 480 chemicals in total are tested \n",
    "assert len(kellerdf[\"CID\"].unique())==480"
   ]
  },
  {
   "attachments": {},
   "cell_type": "markdown",
   "metadata": {},
   "source": [
    "## Calculate Percentage of Applicability"
   ]
  },
  {
   "cell_type": "code",
   "execution_count": 5,
   "metadata": {},
   "outputs": [
    {
     "name": "stderr",
     "output_type": "stream",
     "text": [
      "100%|██████████| 480/480 [00:01<00:00, 466.17it/s]\n"
     ]
    }
   ],
   "source": [
    "\n",
    "df_keller_pa = pd.DataFrame()\n",
    "for cid in tqdm(kellerdf.CID.astype(int).unique()):\n",
    "    tempdata = kellerdf[kellerdf[\"CID\"]==cid].iloc[:,2:]\n",
    "    tempPU = (np.average(tempdata>0, axis=0))\n",
    "    tempPU = np.sum(tempdata, axis=0)/(100*len(tempdata))\n",
    "    pa = np.sqrt(tempPU*tempPU)*100\n",
    "    df_keller_pa = pd.concat((df_keller_pa, pa),1)\n",
    "\n",
    "df_keller_pa = df_keller_pa.T\n",
    "df_keller_pa.index = (kellerdf.CID.astype(int).unique())\n",
    "\n",
    "df_keller_pa.to_csv(\"keller/raw/keller_pa.csv\")"
   ]
  },
  {
   "attachments": {},
   "cell_type": "markdown",
   "metadata": {},
   "source": [
    "## Extract Overlapped Molecules"
   ]
  },
  {
   "cell_type": "code",
   "execution_count": 6,
   "metadata": {},
   "outputs": [
    {
     "data": {
      "text/plain": [
       "65"
      ]
     },
     "execution_count": 6,
     "metadata": {},
     "output_type": "execute_result"
    }
   ],
   "source": [
    "overlapcid = []\n",
    "for cid in df_keller_pa.index.values:\n",
    "    if cid in dravnieksdf[\"CID\"].values:\n",
    "        overlapcid+=[cid]\n",
    "\n",
    "with open('overlapped.npy', 'wb') as f:\n",
    "    np.save(f, np.array(overlapcid))\n",
    "\n",
    "(len(overlapcid))"
   ]
  },
  {
   "attachments": {},
   "cell_type": "markdown",
   "metadata": {},
   "source": [
    "## Extract Semantically Matched Odor Descriptors"
   ]
  },
  {
   "cell_type": "code",
   "execution_count": 7,
   "metadata": {},
   "outputs": [
    {
     "data": {
      "text/html": [
       "<div>\n",
       "<style scoped>\n",
       "    .dataframe tbody tr th:only-of-type {\n",
       "        vertical-align: middle;\n",
       "    }\n",
       "\n",
       "    .dataframe tbody tr th {\n",
       "        vertical-align: top;\n",
       "    }\n",
       "\n",
       "    .dataframe thead th {\n",
       "        text-align: right;\n",
       "    }\n",
       "</style>\n",
       "<table border=\"1\" class=\"dataframe\">\n",
       "  <thead>\n",
       "    <tr style=\"text-align: right;\">\n",
       "      <th></th>\n",
       "      <th>keller</th>\n",
       "      <th>dravnieks</th>\n",
       "    </tr>\n",
       "  </thead>\n",
       "  <tbody>\n",
       "    <tr>\n",
       "      <th>0</th>\n",
       "      <td>BAKERY</td>\n",
       "      <td>'BAKERY (FRESH BREAD)'</td>\n",
       "    </tr>\n",
       "    <tr>\n",
       "      <th>1</th>\n",
       "      <td>SWEET</td>\n",
       "      <td>'SWEET'</td>\n",
       "    </tr>\n",
       "    <tr>\n",
       "      <th>2</th>\n",
       "      <td>FRUIT</td>\n",
       "      <td>'FRUITY,CITRUS'</td>\n",
       "    </tr>\n",
       "    <tr>\n",
       "      <th>3</th>\n",
       "      <td>FRUIT</td>\n",
       "      <td>'GRAPEFRUIT'</td>\n",
       "    </tr>\n",
       "    <tr>\n",
       "      <th>4</th>\n",
       "      <td>FRUIT</td>\n",
       "      <td>'FRUITY,OTHER THAN CITRUS'</td>\n",
       "    </tr>\n",
       "    <tr>\n",
       "      <th>5</th>\n",
       "      <td>FRUIT</td>\n",
       "      <td>'APPLE, FRUIT'</td>\n",
       "    </tr>\n",
       "    <tr>\n",
       "      <th>6</th>\n",
       "      <td>FRUIT</td>\n",
       "      <td>'PEACH FRUIT'</td>\n",
       "    </tr>\n",
       "    <tr>\n",
       "      <th>7</th>\n",
       "      <td>FRUIT</td>\n",
       "      <td>'FERMENTED, ROTTEN FRUIT'</td>\n",
       "    </tr>\n",
       "    <tr>\n",
       "      <th>8</th>\n",
       "      <td>FISH</td>\n",
       "      <td>'FISHY'</td>\n",
       "    </tr>\n",
       "    <tr>\n",
       "      <th>9</th>\n",
       "      <td>FISH</td>\n",
       "      <td>'KIPPERY,SMOKED FISH'</td>\n",
       "    </tr>\n",
       "    <tr>\n",
       "      <th>10</th>\n",
       "      <td>GARLIC</td>\n",
       "      <td>'GARLIC, ONION'</td>\n",
       "    </tr>\n",
       "    <tr>\n",
       "      <th>11</th>\n",
       "      <td>SOUR</td>\n",
       "      <td>'SOUR MILK'</td>\n",
       "    </tr>\n",
       "    <tr>\n",
       "      <th>12</th>\n",
       "      <td>SOUR</td>\n",
       "      <td>'SOUR, VINEGAR'</td>\n",
       "    </tr>\n",
       "    <tr>\n",
       "      <th>13</th>\n",
       "      <td>BURNT</td>\n",
       "      <td>'BURNT,SMOKY'</td>\n",
       "    </tr>\n",
       "    <tr>\n",
       "      <th>14</th>\n",
       "      <td>BURNT</td>\n",
       "      <td>'BURNT PAPER'</td>\n",
       "    </tr>\n",
       "    <tr>\n",
       "      <th>15</th>\n",
       "      <td>BURNT</td>\n",
       "      <td>'BURNT MILK'</td>\n",
       "    </tr>\n",
       "    <tr>\n",
       "      <th>16</th>\n",
       "      <td>BURNT</td>\n",
       "      <td>'BURNT RUBBER'</td>\n",
       "    </tr>\n",
       "    <tr>\n",
       "      <th>17</th>\n",
       "      <td>BURNT</td>\n",
       "      <td>'BURNT CANDLE'</td>\n",
       "    </tr>\n",
       "    <tr>\n",
       "      <th>18</th>\n",
       "      <td>ACID</td>\n",
       "      <td>'SHARP, PUNGENT, ACID'</td>\n",
       "    </tr>\n",
       "    <tr>\n",
       "      <th>19</th>\n",
       "      <td>WARM</td>\n",
       "      <td>'WARM'</td>\n",
       "    </tr>\n",
       "    <tr>\n",
       "      <th>20</th>\n",
       "      <td>SWEATY</td>\n",
       "      <td>'SWEATY'</td>\n",
       "    </tr>\n",
       "    <tr>\n",
       "      <th>21</th>\n",
       "      <td>DECAYED</td>\n",
       "      <td>'PUTRID, FOUL, DECAYED'</td>\n",
       "    </tr>\n",
       "    <tr>\n",
       "      <th>22</th>\n",
       "      <td>WOOD</td>\n",
       "      <td>'OAK WOOD,COGNAC'</td>\n",
       "    </tr>\n",
       "    <tr>\n",
       "      <th>23</th>\n",
       "      <td>WOOD</td>\n",
       "      <td>'WOODY, RESINOUS'</td>\n",
       "    </tr>\n",
       "    <tr>\n",
       "      <th>24</th>\n",
       "      <td>WOOD</td>\n",
       "      <td>'CEDARWOOD'</td>\n",
       "    </tr>\n",
       "    <tr>\n",
       "      <th>25</th>\n",
       "      <td>GRASS</td>\n",
       "      <td>'CRUSHED GRASS'</td>\n",
       "    </tr>\n",
       "    <tr>\n",
       "      <th>26</th>\n",
       "      <td>GRASS</td>\n",
       "      <td>'HERBAL, GREEN,CUTGRASS'</td>\n",
       "    </tr>\n",
       "    <tr>\n",
       "      <th>27</th>\n",
       "      <td>CHEMICAL</td>\n",
       "      <td>'CHEMICAL'</td>\n",
       "    </tr>\n",
       "  </tbody>\n",
       "</table>\n",
       "</div>"
      ],
      "text/plain": [
       "      keller                   dravnieks\n",
       "0    BAKERY       'BAKERY (FRESH BREAD)'\n",
       "1     SWEET                      'SWEET'\n",
       "2     FRUIT              'FRUITY,CITRUS'\n",
       "3     FRUIT                 'GRAPEFRUIT'\n",
       "4     FRUIT   'FRUITY,OTHER THAN CITRUS'\n",
       "5     FRUIT               'APPLE, FRUIT'\n",
       "6     FRUIT                'PEACH FRUIT'\n",
       "7     FRUIT    'FERMENTED, ROTTEN FRUIT'\n",
       "8       FISH                     'FISHY'\n",
       "9       FISH       'KIPPERY,SMOKED FISH'\n",
       "10   GARLIC              'GARLIC, ONION'\n",
       "11     SOUR                  'SOUR MILK'\n",
       "12     SOUR              'SOUR, VINEGAR'\n",
       "13    BURNT                'BURNT,SMOKY'\n",
       "14    BURNT                'BURNT PAPER'\n",
       "15    BURNT                 'BURNT MILK'\n",
       "16    BURNT               'BURNT RUBBER'\n",
       "17    BURNT               'BURNT CANDLE'\n",
       "18     ACID       'SHARP, PUNGENT, ACID'\n",
       "19     WARM                       'WARM'\n",
       "20   SWEATY                     'SWEATY'\n",
       "21   DECAYED     'PUTRID, FOUL, DECAYED'\n",
       "22     WOOD            'OAK WOOD,COGNAC'\n",
       "23     WOOD            'WOODY, RESINOUS'\n",
       "24     WOOD                  'CEDARWOOD'\n",
       "25    GRASS              'CRUSHED GRASS'\n",
       "26    GRASS     'HERBAL, GREEN,CUTGRASS'\n",
       "27  CHEMICAL                  'CHEMICAL'"
      ]
     },
     "execution_count": 7,
     "metadata": {},
     "output_type": "execute_result"
    }
   ],
   "source": [
    "sharedescriptor = {\"keller\":[], \"dravnieks\":[]}\n",
    "for des in df_keller_pa.columns.values:\n",
    "    for desdrav in dravnieksdf.columns.values:\n",
    "        if des == \"CID\" or desdrav==\"CID\":\n",
    "            continue\n",
    "        if des.strip() in desdrav or desdrav in des:\n",
    "            sharedescriptor[\"dravnieks\"]+=[desdrav]\n",
    "            sharedescriptor[\"keller\"]+=[des]\n",
    "\n",
    "sharedescriptor = pd.DataFrame(sharedescriptor)\n",
    "sharedescriptor"
   ]
  },
  {
   "attachments": {},
   "cell_type": "markdown",
   "metadata": {},
   "source": [
    "## Correlation Analysis of PA on overlapping chemicals"
   ]
  },
  {
   "cell_type": "code",
   "execution_count": 8,
   "metadata": {},
   "outputs": [
    {
     "data": {
      "text/plain": [
       "6"
      ]
     },
     "execution_count": 8,
     "metadata": {},
     "output_type": "execute_result"
    }
   ],
   "source": [
    "## there are some repetition in dravnieks dataset, we now filter them out\n",
    "cid_uniq = []\n",
    "cid_repeat = []\n",
    "for cid in dravnieksdf[\"CID\"].values:\n",
    "    if cid not in cid_uniq:\n",
    "        cid_uniq+=[cid]\n",
    "    else:\n",
    "        cid_repeat+=[cid]\n",
    "\n",
    "len(cid_repeat)"
   ]
  },
  {
   "cell_type": "code",
   "execution_count": 9,
   "metadata": {},
   "outputs": [
    {
     "data": {
      "text/plain": [
       "(61, 146)"
      ]
     },
     "execution_count": 9,
     "metadata": {},
     "output_type": "execute_result"
    }
   ],
   "source": [
    "kellerovlp = pd.DataFrame()\n",
    "dravovlp = pd.DataFrame()\n",
    "for cid in overlapcid:\n",
    "    dravovlp = pd.concat((dravovlp, dravnieksdf[dravnieksdf[\"CID\"]==cid]),0)\n",
    "    kellerovlp = pd.concat((kellerovlp, df_keller_pa[df_keller_pa.index==cid]),0)\n",
    "\n",
    "## remove repeated cid in overlapped chemical cid set\n",
    "dravovlp = dravovlp[dravovlp.CID.isin(cid_repeat)==False]\n",
    "kellerovlp = kellerovlp[kellerovlp.index.isin(cid_repeat)==False]\n",
    "\n",
    "## reformat to obtain a pure psychophysical data matrix\n",
    "dravovlp.index = dravovlp.CID\n",
    "dravovlp = dravovlp.iloc[:,2:]\n",
    "dravovlp.shape"
   ]
  },
  {
   "cell_type": "code",
   "execution_count": 11,
   "metadata": {},
   "outputs": [
    {
     "data": {
      "text/html": [
       "<div>\n",
       "<style scoped>\n",
       "    .dataframe tbody tr th:only-of-type {\n",
       "        vertical-align: middle;\n",
       "    }\n",
       "\n",
       "    .dataframe tbody tr th {\n",
       "        vertical-align: top;\n",
       "    }\n",
       "\n",
       "    .dataframe thead th {\n",
       "        text-align: right;\n",
       "    }\n",
       "</style>\n",
       "<table border=\"1\" class=\"dataframe\">\n",
       "  <thead>\n",
       "    <tr style=\"text-align: right;\">\n",
       "      <th></th>\n",
       "      <th>keller</th>\n",
       "      <th>dravnieks</th>\n",
       "      <th>corr</th>\n",
       "    </tr>\n",
       "  </thead>\n",
       "  <tbody>\n",
       "    <tr>\n",
       "      <th>0</th>\n",
       "      <td>BAKERY</td>\n",
       "      <td>'BAKERY (FRESH BREAD)'</td>\n",
       "      <td>0.678056</td>\n",
       "    </tr>\n",
       "    <tr>\n",
       "      <th>1</th>\n",
       "      <td>SWEET</td>\n",
       "      <td>'SWEET'</td>\n",
       "      <td>0.829146</td>\n",
       "    </tr>\n",
       "    <tr>\n",
       "      <th>2</th>\n",
       "      <td>FRUIT</td>\n",
       "      <td>'FRUITY,CITRUS'</td>\n",
       "      <td>0.563910</td>\n",
       "    </tr>\n",
       "    <tr>\n",
       "      <th>4</th>\n",
       "      <td>FRUIT</td>\n",
       "      <td>'FRUITY,OTHER THAN CITRUS'</td>\n",
       "      <td>0.890124</td>\n",
       "    </tr>\n",
       "    <tr>\n",
       "      <th>6</th>\n",
       "      <td>FRUIT</td>\n",
       "      <td>'PEACH FRUIT'</td>\n",
       "      <td>0.814849</td>\n",
       "    </tr>\n",
       "    <tr>\n",
       "      <th>10</th>\n",
       "      <td>GARLIC</td>\n",
       "      <td>'GARLIC, ONION'</td>\n",
       "      <td>0.678773</td>\n",
       "    </tr>\n",
       "    <tr>\n",
       "      <th>11</th>\n",
       "      <td>SOUR</td>\n",
       "      <td>'SOUR MILK'</td>\n",
       "      <td>0.823608</td>\n",
       "    </tr>\n",
       "    <tr>\n",
       "      <th>12</th>\n",
       "      <td>SOUR</td>\n",
       "      <td>'SOUR, VINEGAR'</td>\n",
       "      <td>0.795024</td>\n",
       "    </tr>\n",
       "    <tr>\n",
       "      <th>20</th>\n",
       "      <td>SWEATY</td>\n",
       "      <td>'SWEATY'</td>\n",
       "      <td>0.731716</td>\n",
       "    </tr>\n",
       "    <tr>\n",
       "      <th>21</th>\n",
       "      <td>DECAYED</td>\n",
       "      <td>'PUTRID, FOUL, DECAYED'</td>\n",
       "      <td>0.781773</td>\n",
       "    </tr>\n",
       "  </tbody>\n",
       "</table>\n",
       "</div>"
      ],
      "text/plain": [
       "     keller                   dravnieks      corr\n",
       "0   BAKERY       'BAKERY (FRESH BREAD)'  0.678056\n",
       "1    SWEET                      'SWEET'  0.829146\n",
       "2    FRUIT              'FRUITY,CITRUS'  0.563910\n",
       "4    FRUIT   'FRUITY,OTHER THAN CITRUS'  0.890124\n",
       "6    FRUIT                'PEACH FRUIT'  0.814849\n",
       "10  GARLIC              'GARLIC, ONION'  0.678773\n",
       "11    SOUR                  'SOUR MILK'  0.823608\n",
       "12    SOUR              'SOUR, VINEGAR'  0.795024\n",
       "20  SWEATY                     'SWEATY'  0.731716\n",
       "21  DECAYED     'PUTRID, FOUL, DECAYED'  0.781773"
      ]
     },
     "execution_count": 11,
     "metadata": {},
     "output_type": "execute_result"
    }
   ],
   "source": [
    "import matplotlib.pyplot as plt\n",
    "from scipy.spatial.distance import cosine\n",
    "\n",
    "corrdis = np.zeros(len(sharedescriptor))\n",
    "cosdis = np.zeros(len(sharedescriptor))\n",
    "for i in range(len(sharedescriptor)):\n",
    "    des = (sharedescriptor.iloc[i,:].values[0])\n",
    "    dravdes = (sharedescriptor.iloc[i,:].values[1])\n",
    "    corrdis[i] = np.corrcoef(dravovlp[dravdes], kellerovlp[des])[0,1]\n",
    "\n",
    "sharedescriptor[\"corr\"] = corrdis\n",
    "sharedescriptor[sharedescriptor[\"corr\"]>0.5]"
   ]
  },
  {
   "cell_type": "code",
   "execution_count": 12,
   "metadata": {},
   "outputs": [
    {
     "data": {
      "text/plain": [
       "<AxesSubplot: >"
      ]
     },
     "execution_count": 12,
     "metadata": {},
     "output_type": "execute_result"
    },
    {
     "data": {
      "image/png": "[encoded data removed]",
      "text/plain": [
       "<Figure size 1440x540 with 2 Axes>"
      ]
     },
     "metadata": {
      "needs_background": "light"
     },
     "output_type": "display_data"
    }
   ],
   "source": [
    "import seaborn as sns\n",
    "corrdis_ = np.zeros((len(kellerovlp.columns), len(dravovlp.columns)))\n",
    "for i in range(len(kellerovlp.columns)):\n",
    "    for j in range(len(dravovlp.columns)):\n",
    "        corrdis_[i,j] = np.corrcoef(kellerovlp.iloc[:,i].values, dravovlp.iloc[:, j].values)[0,1]\n",
    "fig, ax = plt.subplots(figsize=(20,7.5))\n",
    "corrdis_ = pd.DataFrame(corrdis_, columns=dravovlp.columns, index= kellerovlp.columns)\n",
    "\n",
    "sns.heatmap(corrdis_, cmap=\"flare\", ax=ax)"
   ]
  },
  {
   "attachments": {},
   "cell_type": "markdown",
   "metadata": {},
   "source": [
    "# Exploratory study for selected labels"
   ]
  },
  {
   "cell_type": "code",
   "execution_count": 13,
   "metadata": {},
   "outputs": [
    {
     "data": {
      "image/png": "[encoded data removed]",
      "text/plain": [
       "<Figure size 1080x432 with 5 Axes>"
      ]
     },
     "metadata": {
      "needs_background": "light"
     },
     "output_type": "display_data"
    }
   ],
   "source": [
    "## Validate odor descriptor choice on the entire dataset\n",
    "dravlabel = [ \"'SWEET'\", \"'GARLIC, ONION'\", \"'SWEATY'\", \"'PUTRID, FOUL, DECAYED'\",\"'HERBAL, GREEN,CUTGRASS'\"]\n",
    "kellerlabel = [\"SWEET \", \"GARLIC \", \"SWEATY \", \"DECAYED\", \"GRASS \"]\n",
    "labelpair = []\n",
    "for i, _ in enumerate(dravlabel):\n",
    "    labelpair+= [dravlabel[i].replace(\"'\",\"\")+\" vs. \"+kellerlabel[i]]\n",
    "\n",
    "## Create a boxplot for distribution of PAs\n",
    "dfplot = pd.DataFrame(np.concatenate((dravnieksdf[dravlabel].to_numpy(),df_keller_pa[kellerlabel].to_numpy()),0), columns = labelpair)\n",
    "dfplot[\"Dataset\"] = np.repeat(\"Dravnieks\", len(dravnieksdf)).tolist()+np.repeat(\"Keller\", len(df_keller_pa)).tolist()\n",
    "\n",
    "fig, ax = plt.subplots(1, 5, figsize=(15,6), sharey=True)\n",
    "for i in range(len(labelpair)): \n",
    "    sns.boxplot(data=dfplot, x=\"Dataset\", y=labelpair[i], hue=\"Dataset\", ax=ax[i], notch=True,palette = \"husl\")\n",
    "\n",
    "fig.savefig(\"../Figs/paper_figs/OdorDescriptorPairs.png\")"
   ]
  },
  {
   "attachments": {},
   "cell_type": "markdown",
   "metadata": {},
   "source": [
    "## Molecular Descriptors"
   ]
  },
  {
   "cell_type": "code",
   "execution_count": 14,
   "metadata": {},
   "outputs": [
    {
     "name": "stderr",
     "output_type": "stream",
     "text": [
      "100%|██████████| 144/144 [00:54<00:00,  2.66it/s]\n"
     ]
    },
    {
     "data": {
      "text/html": [
       "<div>\n",
       "<style scoped>\n",
       "    .dataframe tbody tr th:only-of-type {\n",
       "        vertical-align: middle;\n",
       "    }\n",
       "\n",
       "    .dataframe tbody tr th {\n",
       "        vertical-align: top;\n",
       "    }\n",
       "\n",
       "    .dataframe thead th {\n",
       "        text-align: right;\n",
       "    }\n",
       "</style>\n",
       "<table border=\"1\" class=\"dataframe\">\n",
       "  <thead>\n",
       "    <tr style=\"text-align: right;\">\n",
       "      <th></th>\n",
       "      <th>CID</th>\n",
       "      <th>IsomericSMILES</th>\n",
       "      <th>ABC</th>\n",
       "      <th>ABCGG</th>\n",
       "      <th>nAcid</th>\n",
       "      <th>nBase</th>\n",
       "      <th>SpAbs_A</th>\n",
       "      <th>SpMax_A</th>\n",
       "      <th>SpDiam_A</th>\n",
       "      <th>SpAD_A</th>\n",
       "      <th>...</th>\n",
       "      <th>SRW10</th>\n",
       "      <th>TSRW10</th>\n",
       "      <th>MW</th>\n",
       "      <th>AMW</th>\n",
       "      <th>WPath</th>\n",
       "      <th>WPol</th>\n",
       "      <th>Zagreb1</th>\n",
       "      <th>Zagreb2</th>\n",
       "      <th>mZagreb1</th>\n",
       "      <th>mZagreb2</th>\n",
       "    </tr>\n",
       "  </thead>\n",
       "  <tbody>\n",
       "    <tr>\n",
       "      <th>0</th>\n",
       "      <td>61199</td>\n",
       "      <td>CCC1C(=C(C(=O)O1)O)C</td>\n",
       "      <td>7.277917</td>\n",
       "      <td>7.572649</td>\n",
       "      <td>0</td>\n",
       "      <td>0</td>\n",
       "      <td>12.259734</td>\n",
       "      <td>2.369191</td>\n",
       "      <td>4.484543</td>\n",
       "      <td>12.259734</td>\n",
       "      <td>...</td>\n",
       "      <td>9.034915</td>\n",
       "      <td>53.897700</td>\n",
       "      <td>142.062994</td>\n",
       "      <td>7.103150</td>\n",
       "      <td>111</td>\n",
       "      <td>13</td>\n",
       "      <td>48.0</td>\n",
       "      <td>56.0</td>\n",
       "      <td>4.944444</td>\n",
       "      <td>2.333333</td>\n",
       "    </tr>\n",
       "    <tr>\n",
       "      <th>1</th>\n",
       "      <td>7410</td>\n",
       "      <td>CC(=O)C1=CC=CC=C1</td>\n",
       "      <td>6.542301</td>\n",
       "      <td>6.236096</td>\n",
       "      <td>0</td>\n",
       "      <td>0</td>\n",
       "      <td>11.189957</td>\n",
       "      <td>2.193993</td>\n",
       "      <td>4.387987</td>\n",
       "      <td>11.189957</td>\n",
       "      <td>...</td>\n",
       "      <td>8.590258</td>\n",
       "      <td>37.289972</td>\n",
       "      <td>120.057515</td>\n",
       "      <td>7.062207</td>\n",
       "      <td>88</td>\n",
       "      <td>9</td>\n",
       "      <td>40.0</td>\n",
       "      <td>43.0</td>\n",
       "      <td>3.472222</td>\n",
       "      <td>2.111111</td>\n",
       "    </tr>\n",
       "    <tr>\n",
       "      <th>2</th>\n",
       "      <td>14286</td>\n",
       "      <td>CC(=O)C1=CC=CC=N1</td>\n",
       "      <td>6.542301</td>\n",
       "      <td>6.236096</td>\n",
       "      <td>0</td>\n",
       "      <td>0</td>\n",
       "      <td>11.189957</td>\n",
       "      <td>2.193993</td>\n",
       "      <td>4.387987</td>\n",
       "      <td>11.189957</td>\n",
       "      <td>...</td>\n",
       "      <td>8.590258</td>\n",
       "      <td>37.289972</td>\n",
       "      <td>121.052764</td>\n",
       "      <td>7.565798</td>\n",
       "      <td>88</td>\n",
       "      <td>9</td>\n",
       "      <td>40.0</td>\n",
       "      <td>43.0</td>\n",
       "      <td>3.472222</td>\n",
       "      <td>2.111111</td>\n",
       "    </tr>\n",
       "    <tr>\n",
       "      <th>3</th>\n",
       "      <td>98403</td>\n",
       "      <td>CC(CCCC(C)C=O)CCC=C(C)C</td>\n",
       "      <td>10.337054</td>\n",
       "      <td>9.696190</td>\n",
       "      <td>0</td>\n",
       "      <td>0</td>\n",
       "      <td>17.150665</td>\n",
       "      <td>2.084407</td>\n",
       "      <td>4.168814</td>\n",
       "      <td>17.150665</td>\n",
       "      <td>...</td>\n",
       "      <td>8.560061</td>\n",
       "      <td>44.474951</td>\n",
       "      <td>210.198365</td>\n",
       "      <td>5.126789</td>\n",
       "      <td>484</td>\n",
       "      <td>14</td>\n",
       "      <td>60.0</td>\n",
       "      <td>60.0</td>\n",
       "      <td>7.083333</td>\n",
       "      <td>3.666667</td>\n",
       "    </tr>\n",
       "    <tr>\n",
       "      <th>4</th>\n",
       "      <td>6501</td>\n",
       "      <td>CCOC(=O)C1C(O1)(C)C2=CC=CC=C2</td>\n",
       "      <td>11.418358</td>\n",
       "      <td>11.153296</td>\n",
       "      <td>0</td>\n",
       "      <td>0</td>\n",
       "      <td>19.171456</td>\n",
       "      <td>2.585211</td>\n",
       "      <td>4.841074</td>\n",
       "      <td>19.171456</td>\n",
       "      <td>...</td>\n",
       "      <td>9.849718</td>\n",
       "      <td>68.142058</td>\n",
       "      <td>206.094294</td>\n",
       "      <td>7.106700</td>\n",
       "      <td>378</td>\n",
       "      <td>20</td>\n",
       "      <td>78.0</td>\n",
       "      <td>94.0</td>\n",
       "      <td>5.395833</td>\n",
       "      <td>3.402778</td>\n",
       "    </tr>\n",
       "  </tbody>\n",
       "</table>\n",
       "<p>5 rows × 1828 columns</p>\n",
       "</div>"
      ],
      "text/plain": [
       "     CID                 IsomericSMILES        ABC      ABCGG  nAcid  nBase  \\\n",
       "0  61199           CCC1C(=C(C(=O)O1)O)C   7.277917   7.572649      0      0   \n",
       "1   7410              CC(=O)C1=CC=CC=C1   6.542301   6.236096      0      0   \n",
       "2  14286              CC(=O)C1=CC=CC=N1   6.542301   6.236096      0      0   \n",
       "3  98403        CC(CCCC(C)C=O)CCC=C(C)C  10.337054   9.696190      0      0   \n",
       "4   6501  CCOC(=O)C1C(O1)(C)C2=CC=CC=C2  11.418358  11.153296      0      0   \n",
       "\n",
       "     SpAbs_A   SpMax_A  SpDiam_A     SpAD_A  ...     SRW10     TSRW10  \\\n",
       "0  12.259734  2.369191  4.484543  12.259734  ...  9.034915  53.897700   \n",
       "1  11.189957  2.193993  4.387987  11.189957  ...  8.590258  37.289972   \n",
       "2  11.189957  2.193993  4.387987  11.189957  ...  8.590258  37.289972   \n",
       "3  17.150665  2.084407  4.168814  17.150665  ...  8.560061  44.474951   \n",
       "4  19.171456  2.585211  4.841074  19.171456  ...  9.849718  68.142058   \n",
       "\n",
       "           MW       AMW  WPath  WPol  Zagreb1  Zagreb2  mZagreb1  mZagreb2  \n",
       "0  142.062994  7.103150    111    13     48.0     56.0  4.944444  2.333333  \n",
       "1  120.057515  7.062207     88     9     40.0     43.0  3.472222  2.111111  \n",
       "2  121.052764  7.565798     88     9     40.0     43.0  3.472222  2.111111  \n",
       "3  210.198365  5.126789    484    14     60.0     60.0  7.083333  3.666667  \n",
       "4  206.094294  7.106700    378    20     78.0     94.0  5.395833  3.402778  \n",
       "\n",
       "[5 rows x 1828 columns]"
      ]
     },
     "execution_count": 14,
     "metadata": {},
     "output_type": "execute_result"
    }
   ],
   "source": [
    "from rdkit import Chem\n",
    "from mordred import Calculator, descriptors\n",
    "\n",
    "## Get started with Dravnieks dataset\n",
    "data_descriptor = []\n",
    "smilesall = dravnieksdf[\"IsomericSMILES\"].to_numpy()\n",
    "calc = Calculator(descriptors)\n",
    "for smile in tqdm(smilesall):\n",
    "    mol = Chem.MolFromSmiles(smile)\n",
    "    calc_result = calc(mol)\n",
    "    dict_result = calc_result.asdict()\n",
    "    data_descriptor.append(dict_result)\n",
    "dravmol = pd.DataFrame(data_descriptor)\n",
    "dravmol.insert(0,\"IsomericSMILES\",Smiles)\n",
    "dravmol.insert(0,\"CID\",dravnieksdf[\"CID\"].to_numpy().astype(int))\n",
    "dravmol.to_csv(\"dravnieks/raw/molecular_descriptors.csv\")\n",
    "dravmol.head()"
   ]
  },
  {
   "cell_type": "code",
   "execution_count": 20,
   "metadata": {},
   "outputs": [
    {
     "name": "stderr",
     "output_type": "stream",
     "text": [
      "100%|██████████| 480/480 [04:18<00:00,  1.86it/s]\n"
     ]
    },
    {
     "data": {
      "text/html": [
       "<div>\n",
       "<style scoped>\n",
       "    .dataframe tbody tr th:only-of-type {\n",
       "        vertical-align: middle;\n",
       "    }\n",
       "\n",
       "    .dataframe tbody tr th {\n",
       "        vertical-align: top;\n",
       "    }\n",
       "\n",
       "    .dataframe thead th {\n",
       "        text-align: right;\n",
       "    }\n",
       "</style>\n",
       "<table border=\"1\" class=\"dataframe\">\n",
       "  <thead>\n",
       "    <tr style=\"text-align: right;\">\n",
       "      <th></th>\n",
       "      <th>CID</th>\n",
       "      <th>IsomericSMILES</th>\n",
       "      <th>ABC</th>\n",
       "      <th>ABCGG</th>\n",
       "      <th>nAcid</th>\n",
       "      <th>nBase</th>\n",
       "      <th>SpAbs_A</th>\n",
       "      <th>SpMax_A</th>\n",
       "      <th>SpDiam_A</th>\n",
       "      <th>SpAD_A</th>\n",
       "      <th>...</th>\n",
       "      <th>SRW10</th>\n",
       "      <th>TSRW10</th>\n",
       "      <th>MW</th>\n",
       "      <th>AMW</th>\n",
       "      <th>WPath</th>\n",
       "      <th>WPol</th>\n",
       "      <th>Zagreb1</th>\n",
       "      <th>Zagreb2</th>\n",
       "      <th>mZagreb1</th>\n",
       "      <th>mZagreb2</th>\n",
       "    </tr>\n",
       "  </thead>\n",
       "  <tbody>\n",
       "    <tr>\n",
       "      <th>0</th>\n",
       "      <td>16741</td>\n",
       "      <td>C1=CC=C(C=C1)CCN=C=S</td>\n",
       "      <td>7.778175</td>\n",
       "      <td>7.057066</td>\n",
       "      <td>0</td>\n",
       "      <td>0</td>\n",
       "      <td>13.98336</td>\n",
       "      <td>2.156639</td>\n",
       "      <td>4.313279</td>\n",
       "      <td>13.98336</td>\n",
       "      <td>...</td>\n",
       "      <td>8.491465</td>\n",
       "      <td>39.504541</td>\n",
       "      <td>163.045570</td>\n",
       "      <td>8.152279</td>\n",
       "      <td>182</td>\n",
       "      <td>10</td>\n",
       "      <td>46.0</td>\n",
       "      <td>48.0</td>\n",
       "      <td>3.361111</td>\n",
       "      <td>2.750000</td>\n",
       "    </tr>\n",
       "    <tr>\n",
       "      <th>1</th>\n",
       "      <td>17121</td>\n",
       "      <td>CCCCCC(C=C)OC(=O)C</td>\n",
       "      <td>7.996954</td>\n",
       "      <td>8.097782</td>\n",
       "      <td>0</td>\n",
       "      <td>0</td>\n",
       "      <td>13.776947</td>\n",
       "      <td>2.111991</td>\n",
       "      <td>4.223981</td>\n",
       "      <td>13.776947</td>\n",
       "      <td>...</td>\n",
       "      <td>8.326759</td>\n",
       "      <td>40.188740</td>\n",
       "      <td>170.130680</td>\n",
       "      <td>5.671023</td>\n",
       "      <td>237</td>\n",
       "      <td>11</td>\n",
       "      <td>46.0</td>\n",
       "      <td>46.0</td>\n",
       "      <td>5.722222</td>\n",
       "      <td>3.083333</td>\n",
       "    </tr>\n",
       "    <tr>\n",
       "      <th>2</th>\n",
       "      <td>520191</td>\n",
       "      <td>CC1=CC(=C(S1)C)C(=O)C</td>\n",
       "      <td>7.427747</td>\n",
       "      <td>7.567246</td>\n",
       "      <td>0</td>\n",
       "      <td>0</td>\n",
       "      <td>11.531561</td>\n",
       "      <td>2.33558</td>\n",
       "      <td>4.47489</td>\n",
       "      <td>11.531561</td>\n",
       "      <td>...</td>\n",
       "      <td>8.936035</td>\n",
       "      <td>53.391630</td>\n",
       "      <td>154.045236</td>\n",
       "      <td>7.702262</td>\n",
       "      <td>113</td>\n",
       "      <td>11</td>\n",
       "      <td>48.0</td>\n",
       "      <td>54.0</td>\n",
       "      <td>4.944444</td>\n",
       "      <td>2.222222</td>\n",
       "    </tr>\n",
       "    <tr>\n",
       "      <th>3</th>\n",
       "      <td>92979</td>\n",
       "      <td>C[C@]12CC[C@H]3[C@H]([C@@H]1CC=C2)CCC4=CC(=O)C...</td>\n",
       "      <td>16.424974</td>\n",
       "      <td>13.265580</td>\n",
       "      <td>0</td>\n",
       "      <td>0</td>\n",
       "      <td>26.293187</td>\n",
       "      <td>2.594028</td>\n",
       "      <td>5.160368</td>\n",
       "      <td>26.293187</td>\n",
       "      <td>...</td>\n",
       "      <td>10.459870</td>\n",
       "      <td>69.126315</td>\n",
       "      <td>270.198365</td>\n",
       "      <td>5.873878</td>\n",
       "      <td>699</td>\n",
       "      <td>40</td>\n",
       "      <td>120.0</td>\n",
       "      <td>151.0</td>\n",
       "      <td>6.180556</td>\n",
       "      <td>4.097222</td>\n",
       "    </tr>\n",
       "    <tr>\n",
       "      <th>4</th>\n",
       "      <td>62580</td>\n",
       "      <td>CC(C)C(=O)OCC1=CC2=C(C=C1)OCO2</td>\n",
       "      <td>12.268104</td>\n",
       "      <td>10.804121</td>\n",
       "      <td>0</td>\n",
       "      <td>0</td>\n",
       "      <td>20.304899</td>\n",
       "      <td>2.36631</td>\n",
       "      <td>4.645861</td>\n",
       "      <td>20.304899</td>\n",
       "      <td>...</td>\n",
       "      <td>9.452109</td>\n",
       "      <td>61.596833</td>\n",
       "      <td>222.089209</td>\n",
       "      <td>7.402974</td>\n",
       "      <td>481</td>\n",
       "      <td>20</td>\n",
       "      <td>80.0</td>\n",
       "      <td>91.0</td>\n",
       "      <td>5.555556</td>\n",
       "      <td>3.555556</td>\n",
       "    </tr>\n",
       "  </tbody>\n",
       "</table>\n",
       "<p>5 rows × 1828 columns</p>\n",
       "</div>"
      ],
      "text/plain": [
       "      CID                                     IsomericSMILES        ABC  \\\n",
       "0   16741                               C1=CC=C(C=C1)CCN=C=S   7.778175   \n",
       "1   17121                                 CCCCCC(C=C)OC(=O)C   7.996954   \n",
       "2  520191                              CC1=CC(=C(S1)C)C(=O)C   7.427747   \n",
       "3   92979  C[C@]12CC[C@H]3[C@H]([C@@H]1CC=C2)CCC4=CC(=O)C...  16.424974   \n",
       "4   62580                     CC(C)C(=O)OCC1=CC2=C(C=C1)OCO2  12.268104   \n",
       "\n",
       "       ABCGG  nAcid  nBase    SpAbs_A   SpMax_A  SpDiam_A     SpAD_A  ...  \\\n",
       "0   7.057066      0      0   13.98336  2.156639  4.313279   13.98336  ...   \n",
       "1   8.097782      0      0  13.776947  2.111991  4.223981  13.776947  ...   \n",
       "2   7.567246      0      0  11.531561   2.33558   4.47489  11.531561  ...   \n",
       "3  13.265580      0      0  26.293187  2.594028  5.160368  26.293187  ...   \n",
       "4  10.804121      0      0  20.304899   2.36631  4.645861  20.304899  ...   \n",
       "\n",
       "       SRW10     TSRW10          MW       AMW WPath WPol Zagreb1 Zagreb2  \\\n",
       "0   8.491465  39.504541  163.045570  8.152279   182   10    46.0    48.0   \n",
       "1   8.326759  40.188740  170.130680  5.671023   237   11    46.0    46.0   \n",
       "2   8.936035  53.391630  154.045236  7.702262   113   11    48.0    54.0   \n",
       "3  10.459870  69.126315  270.198365  5.873878   699   40   120.0   151.0   \n",
       "4   9.452109  61.596833  222.089209  7.402974   481   20    80.0    91.0   \n",
       "\n",
       "   mZagreb1  mZagreb2  \n",
       "0  3.361111  2.750000  \n",
       "1  5.722222  3.083333  \n",
       "2  4.944444  2.222222  \n",
       "3  6.180556  4.097222  \n",
       "4  5.555556  3.555556  \n",
       "\n",
       "[5 rows x 1828 columns]"
      ]
     },
     "execution_count": 20,
     "metadata": {},
     "output_type": "execute_result"
    }
   ],
   "source": [
    "import pubchempy as pcp\n",
    "\n",
    "## Keller's dataset needs special handling since no smiles information is available online\n",
    "smilesall,data_descriptor = [], []\n",
    "kellercid = (df_keller_pa.index)\n",
    "\n",
    "for cid in tqdm(kellercid):\n",
    "    cps = pcp.Compound.from_cid(cid)\n",
    "    smile = (cps.isomeric_smiles)\n",
    "    smilesall +=[smile]\n",
    "    mol = Chem.MolFromSmiles(smile)\n",
    "    calc_result = calc(mol)\n",
    "    dict_result = calc_result.asdict()\n",
    "    data_descriptor.append(dict_result)\n",
    "kellermol = pd.DataFrame(data_descriptor)\n",
    "kellermol.insert(0,\"IsomericSMILES\",smilesall)\n",
    "kellermol.insert(0,\"CID\",kellercid.to_numpy().astype(int))\n",
    "kellermol.to_csv(\"keller/raw/molecular_descriptors.csv\")\n",
    "kellermol.head()"
   ]
  },
  {
   "attachments": {},
   "cell_type": "markdown",
   "metadata": {},
   "source": [
    "## Missing Data Imputation"
   ]
  },
  {
   "cell_type": "code",
   "execution_count": 26,
   "metadata": {},
   "outputs": [
    {
     "name": "stderr",
     "output_type": "stream",
     "text": [
      "100%|██████████| 1826/1826 [00:08<00:00, 221.72it/s]\n"
     ]
    }
   ],
   "source": [
    "## Dravnieks\n",
    "count_errorD={}\n",
    "\n",
    "# ensure every entry has an numeric value, otherwise set to NA\n",
    "for i in tqdm(range(len(dravmol.iloc[:,2:].columns))):\n",
    "    ind = i+2\n",
    "    count_errorD[str(ind)]=0\n",
    "    for j in range(len(dravmol)):\n",
    "        if float(dravmol.iloc[j,ind])>0 or float(dravmol.iloc[j,ind])<=0: \n",
    "            pass\n",
    "        else:\n",
    "            dravmol.iloc[j,ind] = np.nan\n",
    "            count_errorD[str(ind)]+=1\n",
    "\n",
    "count_errorD = pd.DataFrame(count_errorD, index=range(1))"
   ]
  },
  {
   "cell_type": "code",
   "execution_count": 27,
   "metadata": {},
   "outputs": [
    {
     "name": "stderr",
     "output_type": "stream",
     "text": [
      "100%|██████████| 1826/1826 [00:27<00:00, 65.93it/s] \n"
     ]
    }
   ],
   "source": [
    "count_errorK = {}\n",
    "for i in tqdm(range(len(kellermol.iloc[:,2:].columns))):\n",
    "    ind = i+2\n",
    "    count_errorK[str(ind)]=0\n",
    "    for j in range(len(kellermol)):\n",
    "        if float(kellermol.iloc[j,ind])>0 or float(kellermol.iloc[j,ind])<=0:\n",
    "            pass\n",
    "        else:\n",
    "            kellermol.iloc[j,ind] = np.nan\n",
    "            count_errorK[str(ind)]+=1\n",
    "            \n",
    "count_errorK = pd.DataFrame(count_errorK, index=range(1))"
   ]
  },
  {
   "cell_type": "code",
   "execution_count": 37,
   "metadata": {},
   "outputs": [
    {
     "data": {
      "text/plain": [
       "Text(0.5, 0, 'Ratio of the number of NA values to the number total chemicals')"
      ]
     },
     "execution_count": 37,
     "metadata": {},
     "output_type": "execute_result"
    },
    {
     "data": {
      "image/png": "[encoded data removed]",
      "text/plain": [
       "<Figure size 720x432 with 2 Axes>"
      ]
     },
     "metadata": {
      "needs_background": "light"
     },
     "output_type": "display_data"
    }
   ],
   "source": [
    "temp = pd.concat((count_errorD/len(dravmol), count_errorK/len(kellermol)),0)\n",
    "temp.index=range(2)\n",
    "\n",
    "import seaborn as sns\n",
    "fig, ax = plt.subplots(2,figsize=(10,6), sharex=True, sharey=True)\n",
    "sns.histplot(temp.loc[0], bins=50, alpha=.5, ax=ax[0])\n",
    "sns.histplot(temp.loc[1], bins=50, alpha=.5, color=\"orange\", ax=ax[1])\n",
    "# ax.legend([\"Dravnieks's Atlas of Odor Profile\", \"Keller pyschophysical datasets\"])\n",
    "ax[1].set_xlabel(\"Ratio of the number of NA values to the number total chemicals\")\n",
    "# fig.savefig(\"NA_values_mol_desc.png\")"
   ]
  },
  {
   "cell_type": "code",
   "execution_count": 61,
   "metadata": {},
   "outputs": [
    {
     "data": {
      "text/plain": [
       "804"
      ]
     },
     "execution_count": 61,
     "metadata": {},
     "output_type": "execute_result"
    }
   ],
   "source": [
    "## filter out descriptors with >10% NA values across chemicals\n",
    "items = list(set(dravmol.columns[2:][count_errorD.loc[0].values>.1]).union(set(dravmol.columns[2:][count_errorK.loc[0].values>.1])))\n",
    "## retained descriptors\n",
    "items_retained = (set(dravmol.iloc[:,2:].columns).difference(set(items)))\n",
    "\n",
    "len(items_retained)"
   ]
  },
  {
   "cell_type": "code",
   "execution_count": 90,
   "metadata": {},
   "outputs": [
    {
     "name": "stdout",
     "output_type": "stream",
     "text": [
      "0\n",
      "0\n"
     ]
    }
   ],
   "source": [
    "## Understand \n",
    "cols = list(items_retained)\n",
    "dravfeat = dravmol[cols]\n",
    "print(dravfeat.isna().sum().sum())\n",
    "\n",
    "kellerfeat = kellermol[cols]\n",
    "print(kellerfeat.isna().sum().sum())"
   ]
  },
  {
   "cell_type": "code",
   "execution_count": 104,
   "metadata": {},
   "outputs": [],
   "source": [
    "from collinearity import SelectNonCollinear\n",
    "selector = SelectNonCollinear(.5)\n",
    "dravfeat_new = selector.fit_transform(dravfeat.astype(float).to_numpy())\n",
    "kellerfeat_new = selector.fit_transform(kellerfeat.astype(float).to_numpy())"
   ]
  },
  {
   "cell_type": "code",
   "execution_count": 105,
   "metadata": {},
   "outputs": [
    {
     "name": "stdout",
     "output_type": "stream",
     "text": [
      "82\n",
      "100\n"
     ]
    }
   ],
   "source": [
    "colall = list(items_retained)[2:]\n",
    "retaineddravnisk = []\n",
    "for i in range(dravfeat_new.shape[1]):\n",
    "    for j in range(len(colall)):\n",
    "        if np.sum(np.abs(dravfeat[colall[j]].values-dravfeat_new[:,i]))==0:\n",
    "            retaineddravnisk+=[colall[j]]\n",
    "print(len(retaineddravnisk))\n",
    "\n",
    "retainedkeller = []\n",
    "for i in range(kellerfeat_new.shape[1]):\n",
    "    for j in range(len(colall)):\n",
    "        if np.sum(np.abs(kellerfeat[colall[j]].values-kellerfeat_new[:,i]))==0:\n",
    "            retainedkeller+=[colall[j]]\n",
    "print(len(retainedkeller))"
   ]
  },
  {
   "cell_type": "code",
   "execution_count": 106,
   "metadata": {},
   "outputs": [
    {
     "name": "stdout",
     "output_type": "stream",
     "text": [
      "54\n"
     ]
    }
   ],
   "source": [
    "## Ensure the same set of input feature to enable transfer learning\n",
    "retained = list(set(retaineddravnisk).intersection(retainedkeller))\n",
    "print(len(retained))"
   ]
  },
  {
   "cell_type": "code",
   "execution_count": 107,
   "metadata": {},
   "outputs": [],
   "source": [
    "## save the latex-friendly descriptor list\n",
    "file = open(\"retained_descriptor.txt\",\"w+\")\n",
    "for i, cols in enumerate(list(retained)):\n",
    "  if (i+1)%5==0:\n",
    "    file.write(cols+\"\\\\\\\\\\n\")\n",
    "  else:\n",
    "    file.write(cols+\"&\")\n",
    "file.close()"
   ]
  },
  {
   "cell_type": "code",
   "execution_count": 108,
   "metadata": {},
   "outputs": [],
   "source": [
    "## save retained descriptor for easier retrievation\n",
    "with open('retained_descriptors.npy', 'wb') as f:\n",
    "    np.save(f, np.array(retained))"
   ]
  },
  {
   "cell_type": "code",
   "execution_count": 116,
   "metadata": {},
   "outputs": [],
   "source": [
    "## save the final set of features\n",
    "cols = [\"CID\", \"IsomericSMILES\"]+ retained\n",
    "dravmol[cols].to_csv(\"dravnieks/raw/descriptors.csv\")\n",
    "kellermol[cols].to_csv(\"keller/raw/descriptors.csv\")"
   ]
  }
 ],
 "metadata": {
  "kernelspec": {
   "display_name": "base",
   "language": "python",
   "name": "python3"
  },
  "language_info": {
   "codemirror_mode": {
    "name": "ipython",
    "version": 3
   },
   "file_extension": ".py",
   "mimetype": "text/x-python",
   "name": "python",
   "nbconvert_exporter": "python",
   "pygments_lexer": "ipython3",
   "version": "3.8.8"
  },
  "orig_nbformat": 4,
  "vscode": {
   "interpreter": {
    "hash": "5eea53247e810f78670b3efb49d4ee0c411bcdc860cd9ca10a92989621294fb6"
   }
  }
 },
 "nbformat": 4,
 "nbformat_minor": 2
}
