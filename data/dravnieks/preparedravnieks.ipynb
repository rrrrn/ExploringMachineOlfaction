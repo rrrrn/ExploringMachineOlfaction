{
 "cells": [
  {
   "cell_type": "code",
   "execution_count": 1,
   "metadata": {},
   "outputs": [],
   "source": [
    "import pandas as pd\n",
    "import matplotlib.pyplot as plt\n",
    "import numpy as np\n",
    "import matplotlib.colors as mcolors  \n",
    "import warnings\n",
    "warnings.filterwarnings(\"ignore\")"
   ]
  },
  {
   "attachments": {},
   "cell_type": "markdown",
   "metadata": {},
   "source": [
    "# Read Dataset"
   ]
  },
  {
   "cell_type": "code",
   "execution_count": 3,
   "metadata": {},
   "outputs": [
    {
     "name": "stdout",
     "output_type": "stream",
     "text": [
      "Index(['IsomericSMILES', 'CID', 'Unnamed: 0', ''FRUITY,CITRUS'', ''LEMON'',\n",
      "       ''GRAPEFRUIT'', ''ORANGE'', ''FRUITY,OTHER THAN CITRUS'', ''PINEAPPLE'',\n",
      "       ''GRAPE JUICE'',\n",
      "       ...\n",
      "       ''PUTRID, FOUL, DECAYED'', ''FECAL, LIKE MANURE'', ''CADAVEROUS'',\n",
      "       ''SICKENING'', ''DRY, POWDERY'', ''CHALKY'', ''LIGHT'', ''HEAVY'',\n",
      "       ''COOL,COOLING'', ''WARM''],\n",
      "      dtype='object', length=149)\n"
     ]
    }
   ],
   "source": [
    "df = pd.read_csv(\"../../data/dravnieks/raw/DravnieksGrid.csv\") ## available dataset downloaded from pyrfume project\n",
    "interm = pd.read_csv(\"../../data/dravnieks/raw/identifiers.csv\")[[\"CID\"]] ## retrieve cid information\n",
    "intermsmile = pd.read_csv(\"../../data/dravnieks/raw/molecules.csv\")[[\"IsomericSMILES\"]] ## retrieve smiles information\n",
    "df = pd.concat((interm, df), 1)\n",
    "df.dropna(inplace=True)\n",
    "df = df.set_index(np.arange(len(df)))\n",
    "df = pd.concat((intermsmile, df), 1)"
   ]
  },
  {
   "cell_type": "code",
   "execution_count": null,
   "metadata": {},
   "outputs": [],
   "source": []
  }
 ],
 "metadata": {
  "kernelspec": {
   "display_name": "reg",
   "language": "python",
   "name": "python3"
  },
  "language_info": {
   "codemirror_mode": {
    "name": "ipython",
    "version": 3
   },
   "file_extension": ".py",
   "mimetype": "text/x-python",
   "name": "python",
   "nbconvert_exporter": "python",
   "pygments_lexer": "ipython3",
   "version": "3.9.6"
  },
  "orig_nbformat": 4
 },
 "nbformat": 4,
 "nbformat_minor": 2
}
